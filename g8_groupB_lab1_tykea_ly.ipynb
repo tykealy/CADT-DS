{
 "cells": [
  {
   "cell_type": "markdown",
   "metadata": {},
   "source": [
    "# Lab 1: Welcome to Python!\n"
   ]
  },
  {
   "cell_type": "markdown",
   "metadata": {},
   "source": [
    "## Goals\n",
    "Welcome to your first lab day! In these practical sessions, you will have the opportunity to experiment with Python and gain hands-on experience with the language.\n",
    "\n",
    "The main goal of this lab is to ensure that your Python 3 installation went smoothly. If you encounter any issues, please don't hesitate to speak up. Tutors are available to help.\n",
    "\n",
    "This lab also gives you the chance to write your first Python programs and experiment with both scripts and the interactive interpreter.\n",
    "\n",
    "The problems in this lab are not intended to be algorithmically challenging. They are simply a way to get you started using Python 3. Even if the problems seem simple, work through them quickly and then you're free to go.\n",
    "\n",
    "As always, have fun and enjoy the rest of the class period!"
   ]
  },
  {
   "cell_type": "markdown",
   "metadata": {},
   "source": [
    "## Submission\n",
    "\n",
    "Name your Jupyter notebook `g8_group{GROUP}_lab1_{YOUR_LASTNAME}_{YOUR_FIRSTNAME}.ipynb`. For instance, Group A Bora Thida's submission for this lab should be called `g8_groupA_lab1_bora_thida.ipynb` and submit in LMS on `Introduction to Python` folder. "
   ]
  },
  {
   "cell_type": "markdown",
   "metadata": {},
   "source": [
    "## Let's get started!"
   ]
  },
  {
   "cell_type": "markdown",
   "metadata": {},
   "source": [
    "### Loop"
   ]
  },
  {
   "cell_type": "markdown",
   "metadata": {},
   "source": [
    "**Exercise 1:** Print First 10 natural numbers using while loop\n",
    "\n",
    "**Expected output:**\n",
    "````\n",
    "0\n",
    "1\n",
    "2\n",
    "3\n",
    "4\n",
    "5\n",
    "6\n",
    "7\n",
    "8\n",
    "9\n",
    "10\n",
    "````"
   ]
  },
  {
   "cell_type": "code",
   "execution_count": 13,
   "metadata": {},
   "outputs": [
    {
     "name": "stdout",
     "output_type": "stream",
     "text": [
      "0\n",
      "1\n",
      "2\n",
      "3\n",
      "4\n",
      "5\n",
      "6\n",
      "7\n",
      "8\n",
      "9\n"
     ]
    }
   ],
   "source": [
    "for i in range(10):\n",
    "    print(i)"
   ]
  },
  {
   "cell_type": "markdown",
   "metadata": {},
   "source": [
    "### String"
   ]
  },
  {
   "cell_type": "markdown",
   "metadata": {},
   "source": [
    "**Exercise 2**: Given 2 strings, s1 and s2, concat 2 strings\n",
    "Given:\n",
    "````\n",
    "s1 = \"Hello\"\n",
    "s2 = \"World\"\n",
    "````\n",
    "**Expected Output:**\n",
    "````\n",
    "    Hello World\n",
    "\n",
    "````"
   ]
  },
  {
   "cell_type": "code",
   "execution_count": 14,
   "metadata": {},
   "outputs": [
    {
     "name": "stdout",
     "output_type": "stream",
     "text": [
      "Hello World\n"
     ]
    }
   ],
   "source": [
    "s1 = \"Hello\"\n",
    "s2 = \"World\"\n",
    "print(s1 + \" \" + s2)"
   ]
  },
  {
   "cell_type": "markdown",
   "metadata": {},
   "source": [
    "**Exercise 3**: Removal all the characters other than integers from string\n",
    "Given:\n",
    "````\n",
    "I am 25 years and 10 months old\n",
    "````\n",
    "**Expected Output:**\n",
    "````\n",
    "2510\n",
    "````\n",
    "**Hint: \n",
    "- list comprehension,\n",
    "- Join(),\n",
    "- isdigit()"
   ]
  },
  {
   "cell_type": "code",
   "execution_count": 15,
   "metadata": {},
   "outputs": [
    {
     "name": "stdout",
     "output_type": "stream",
     "text": [
      "2510\n"
     ]
    }
   ],
   "source": [
    "s1 = \"I am 25 years and 10 months old\"\n",
    "s2 = s1.split()\n",
    "result = ''.join([i for i in s2 if i.isdigit()])\n",
    "print(result)  # Output: 25 10"
   ]
  },
  {
   "cell_type": "markdown",
   "metadata": {},
   "source": [
    "### Tuple"
   ]
  },
  {
   "cell_type": "markdown",
   "metadata": {},
   "source": [
    "**Exercise 4**: Create a tuple with single item 50"
   ]
  },
  {
   "cell_type": "code",
   "execution_count": 16,
   "metadata": {},
   "outputs": [
    {
     "name": "stdout",
     "output_type": "stream",
     "text": [
      "(50,)\n"
     ]
    }
   ],
   "source": [
    "my_tuple = (50,)\n",
    "print(my_tuple)"
   ]
  },
  {
   "cell_type": "markdown",
   "metadata": {},
   "source": [
    "**Exercise 4**: Unpack the following tuple into 4 variables\n",
    "````\n",
    "aTuple = (10, 20, 30, 40)\n",
    "````\n",
    "\n",
    "**Expected output:**\n",
    "\n",
    "````\n",
    "aTuple = (10, 20, 30, 40)\n",
    "# Your code\n",
    "print(a) # should print 10\n",
    "print(b) # should print 20\n",
    "print(c) # should print 30\n",
    "print(d) # should print 40\n",
    "````"
   ]
  },
  {
   "cell_type": "code",
   "execution_count": 17,
   "metadata": {},
   "outputs": [
    {
     "name": "stdout",
     "output_type": "stream",
     "text": [
      "10 20 30 40\n"
     ]
    }
   ],
   "source": [
    "aTuple = (10, 20, 30, 40)\n",
    "a = aTuple[0]\n",
    "b = aTuple[1]\n",
    "c = aTuple[2]\n",
    "d = aTuple[3]\n",
    "print(a, b, c, d)\n"
   ]
  },
  {
   "cell_type": "markdown",
   "metadata": {},
   "source": [
    "**Exercise 5**: Swap the following two tuples\n",
    "````\n",
    "tuple1 = (11, 22)\n",
    "tuple2 = (99, 88)\n",
    "````\n",
    "**Expected output:**\n",
    "````\n",
    "tuple1 = (99, 88)\n",
    "tuple2 = (11, 22)\n",
    "````"
   ]
  },
  {
   "cell_type": "code",
   "execution_count": 18,
   "metadata": {},
   "outputs": [
    {
     "name": "stdout",
     "output_type": "stream",
     "text": [
      "(99, 88)\n",
      "(11, 22)\n"
     ]
    }
   ],
   "source": [
    "tuple1 = (11, 22)\n",
    "tuple2 = (99, 88)\n",
    "\n",
    "tuple1, tuple2 = tuple2, tuple1\n",
    "\n",
    "print(tuple1)\n",
    "print(tuple2)"
   ]
  },
  {
   "cell_type": "markdown",
   "metadata": {},
   "source": [
    "### Set"
   ]
  },
  {
   "cell_type": "markdown",
   "metadata": {},
   "source": [
    "**Exercise 6**: Add a list of elements to a given set\n",
    "````\n",
    "sampleSet = {\"Yellow\", \"Orange\", \"Black\"}\n",
    "sampleList = [\"Blue\", \"Green\", \"Red\"]\n",
    "````\n",
    "**Expected output:**\n",
    "\n",
    "In set item order is not a concern\n",
    "````\n",
    "{'Green', 'Yellow', 'Black', 'Orange', 'Red', 'Blue'}\n",
    "````\n",
    "**Hint: use update()"
   ]
  },
  {
   "cell_type": "code",
   "execution_count": 19,
   "metadata": {},
   "outputs": [
    {
     "name": "stdout",
     "output_type": "stream",
     "text": [
      "{'Green', 'Yellow', 'Red', 'Orange', 'Black', 'Blue'}\n"
     ]
    }
   ],
   "source": [
    "sampleSet = {\"Yellow\", \"Orange\", \"Black\"}\n",
    "sampleList = [\"Blue\", \"Green\", \"Red\"]\n",
    "\n",
    "sampleSet.update(sampleList)\n",
    "\n",
    "print(sampleSet)"
   ]
  },
  {
   "cell_type": "markdown",
   "metadata": {},
   "source": [
    "**Exercise 7**: Returns a new set with all items from both sets by removing duplicates\n",
    "````\n",
    "set1 = {10, 20, 30, 40, 50}\n",
    "set2 = {30, 40, 50, 60, 70}\n",
    "````\n",
    "**Expected output:**\n",
    "\n",
    "````\n",
    "{70, 40, 10, 50, 20, 60, 30}\n",
    "````\n",
    "Remember set is unordered so not necessary this will be the order of the item."
   ]
  },
  {
   "cell_type": "code",
   "execution_count": 20,
   "metadata": {},
   "outputs": [
    {
     "name": "stdout",
     "output_type": "stream",
     "text": [
      "{70, 40, 10, 50, 20, 60, 30}\n"
     ]
    }
   ],
   "source": [
    "set1 = {10, 20, 30, 40, 50}\n",
    "set2 = {30, 40, 50, 60, 70}\n",
    "\n",
    "new_set = set1.union(set2)\n",
    "print(new_set)"
   ]
  },
  {
   "cell_type": "markdown",
   "metadata": {},
   "source": [
    "### Dictionaries"
   ]
  },
  {
   "cell_type": "markdown",
   "metadata": {},
   "source": [
    "**Exercise 8**: Below are the two lists convert it into the dictionary\n",
    "````\n",
    "keys = ['Ten', 'Twenty', 'Thirty']\n",
    "values = [10, 20, 30]\n",
    "````\n",
    "**Expected output:**\n",
    "\n",
    "````\n",
    "{'Ten': 10, 'Twenty': 20, 'Thirty': 30}````"
   ]
  },
  {
   "cell_type": "code",
   "execution_count": 21,
   "metadata": {},
   "outputs": [
    {
     "name": "stdout",
     "output_type": "stream",
     "text": [
      "{'Ten': 10, 'Twenty': 20, 'Thirty': 30}\n"
     ]
    }
   ],
   "source": [
    "keys = ['Ten', 'Twenty', 'Thirty']\n",
    "values = [10, 20, 30]\n",
    "\n",
    "sampleDict = dict(zip(keys, values))\n",
    "\n",
    "print(sampleDict)"
   ]
  },
  {
   "cell_type": "markdown",
   "metadata": {},
   "source": [
    "**Exercise 9**: Merge following two Python dictionaries into one\n",
    "````\n",
    "dict1 = {'Ten': 10, 'Twenty': 20, 'Thirty': 30}\n",
    "dict2 = {'Thirty': 30, 'Fourty': 40, 'Fifty': 50}\n",
    "````\n",
    "**Expected output:**\n",
    "\n",
    "````\n",
    "{'Ten': 10, 'Twenty': 20, 'Thirty': 30, 'Fourty': 40, 'Fifty': 50}\n",
    "````"
   ]
  },
  {
   "cell_type": "code",
   "execution_count": 22,
   "metadata": {},
   "outputs": [
    {
     "name": "stdout",
     "output_type": "stream",
     "text": [
      "{'Ten': 10, 'Twenty': 20, 'Thirty': 30, 'Fourty': 40, 'Fifty': 50}\n"
     ]
    }
   ],
   "source": [
    "dict1 = {'Ten': 10, 'Twenty': 20, 'Thirty': 30}\n",
    "dict2 = {'Thirty': 30, 'Fourty': 40, 'Fifty': 50}\n",
    "\n",
    "dict3 = {**dict1, **dict2}\n",
    "print(dict3)"
   ]
  },
  {
   "cell_type": "markdown",
   "metadata": {},
   "source": [
    "## Mixed parts"
   ]
  },
  {
   "cell_type": "markdown",
   "metadata": {},
   "source": [
    "**Exercise 10:** Write a loop to find the factorial of any number\n",
    "The factorial (symbol: !) means to multiply all whole numbers from our chosen number down to 1.\n",
    "\n",
    "**For example:** calculate the factorial of 5\n",
    "\n",
    "5! = 5 × 4 × 3 × 2 × 1 = 120\n",
    "\n",
    "**Expected output:**\n",
    "````\n",
    "120\n",
    "````"
   ]
  },
  {
   "cell_type": "code",
   "execution_count": 23,
   "metadata": {},
   "outputs": [
    {
     "name": "stdout",
     "output_type": "stream",
     "text": [
      "120\n"
     ]
    }
   ],
   "source": [
    "n = input(\"Input a number: \")\n",
    "\n",
    "def factorial(n):\n",
    "    result = 1\n",
    "    if n == 0:\n",
    "        return 1\n",
    "    else:\n",
    "        while n >= 1:\n",
    "            result = result * n\n",
    "            n = n - 1\n",
    "        return result\n",
    "print(factorial(int(n)))"
   ]
  },
  {
   "cell_type": "markdown",
   "metadata": {},
   "source": [
    "**Exercise 11:** Reverse a given integer number\n",
    "Given:\n",
    "````\n",
    "76542\n",
    "````\n",
    "\n",
    "**Expected output:**\n",
    "````\n",
    "24567\n",
    "````"
   ]
  },
  {
   "cell_type": "code",
   "execution_count": 24,
   "metadata": {},
   "outputs": [
    {
     "name": "stdout",
     "output_type": "stream",
     "text": [
      "24567\n"
     ]
    }
   ],
   "source": [
    "n = 76542\n",
    "\n",
    "riversed_n = int(str(n)[::-1])\n",
    "print(riversed_n)"
   ]
  },
  {
   "cell_type": "markdown",
   "metadata": {},
   "source": [
    "**Exercise 12:** Find the sum of the series 2 +22 + 222 + 2222 + .. n terms\n",
    "\n",
    "Given:\n",
    "````\n",
    "number_of_terms = 5\n",
    "````\n",
    "So series will become 2 + 22 + 222 + 2222 + 22222\n",
    "\n",
    "**Expected output:**\n",
    "````\n",
    "24690\n",
    "````"
   ]
  },
  {
   "cell_type": "code",
   "execution_count": 25,
   "metadata": {},
   "outputs": [
    {
     "name": "stdout",
     "output_type": "stream",
     "text": [
      "24690\n"
     ]
    }
   ],
   "source": [
    "number_of_terms = 5\n",
    "result= 0\n",
    "\n",
    "for i in range(1, number_of_terms + 1):\n",
    "    n = int('2'*i)\n",
    "    result += n\n",
    "print(result)"
   ]
  },
  {
   "cell_type": "markdown",
   "metadata": {},
   "source": [
    "**Exercise 13:** Create a function that can accept two arguments name and age and print its value"
   ]
  },
  {
   "cell_type": "code",
   "execution_count": 26,
   "metadata": {},
   "outputs": [
    {
     "name": "stdout",
     "output_type": "stream",
     "text": [
      "['John', 36]\n"
     ]
    }
   ],
   "source": [
    "def my_function(name,age):\n",
    "    return [name, age]\n",
    "\n",
    "print(my_function(\"John\", 36))"
   ]
  },
  {
   "cell_type": "markdown",
   "metadata": {},
   "source": [
    "**Exercise 14:** Write a function func1() such that it can accept a variable length of  argument and print all arguments value\n",
    "````\n",
    "func1(20, 40, 60)\n",
    "func1(80, 100)\n",
    "````\n",
    "\n",
    "**Expected Output:**\n",
    "\n",
    "After func1(20, 40, 60):\n",
    "````\n",
    "20\n",
    "40\n",
    "60\n",
    "````\n",
    "\n",
    "After func1(80, 100):\n",
    "````\n",
    "80\n",
    "100\n",
    "````"
   ]
  },
  {
   "cell_type": "code",
   "execution_count": 27,
   "metadata": {
    "scrolled": true
   },
   "outputs": [
    {
     "name": "stdout",
     "output_type": "stream",
     "text": [
      "40\n",
      "60\n",
      "80\n",
      "100\n"
     ]
    }
   ],
   "source": [
    "def func1( n, *a):\n",
    "    for i in a:\n",
    "        print(i)\n",
    "\n",
    "func1(20, 40, 60, 80, 100)"
   ]
  },
  {
   "cell_type": "markdown",
   "metadata": {},
   "source": [
    "**Exercise 15:** Create a function showEmployee() in such a way that it should accept employee name, and it’s salary and display both, and if the salary is missing in function call it should show it as 9000\n",
    "\n",
    "**Expected Output:**\n",
    "````\n",
    "showEmployee(\"Ben\", 9000)\n",
    "showEmployee(\"Ben\")\n",
    "````\n",
    "\n",
    "Should Produce:\n",
    "````\n",
    "Employee Ben salary is: 9000\n",
    "Employee Ben salary is: 9000\n",
    "````"
   ]
  },
  {
   "cell_type": "code",
   "execution_count": 28,
   "metadata": {},
   "outputs": [
    {
     "name": "stdout",
     "output_type": "stream",
     "text": [
      "Employee tk salary is: 900000\n"
     ]
    }
   ],
   "source": [
    "def showEmployee(name, salary=9000):\n",
    "    print(\"Employee\", name, \"salary is:\", salary)\n",
    "\n",
    "showEmployee(\"tk\", 900000)"
   ]
  },
  {
   "cell_type": "markdown",
   "metadata": {
    "collapsed": true,
    "pycharm": {
     "name": "#%% md\n"
    }
   },
   "source": [
    "**Exercise 16:** Given a two integer numbers return their product and  if the product is greater than 1000, then return their sum\n",
    "\n",
    "Given:\n",
    "\n",
    "````\n",
    "number1 = 20\n",
    "number2 = 30\n",
    "````\n",
    "\n",
    "Expected Output:\n",
    "\n",
    "`````\n",
    "The result is 600\n",
    "````\n",
    "Given:\n",
    "````\n",
    "number1 = 40\n",
    "number2 = 30\n",
    "````\n",
    "Expected Output:\n",
    "````\n",
    "The result is 70\n",
    "````"
   ]
  },
  {
   "cell_type": "code",
   "execution_count": 29,
   "metadata": {
    "pycharm": {
     "name": "#%%\n"
    }
   },
   "outputs": [
    {
     "name": "stdout",
     "output_type": "stream",
     "text": [
      "70\n"
     ]
    }
   ],
   "source": [
    "def calc(x,y):\n",
    "    return x*y if x*y < 1000 else x+y\n",
    "print(calc(40,30))"
   ]
  },
  {
   "cell_type": "markdown",
   "metadata": {},
   "source": [
    "**Exercise 17**: Given a two list of equal size create a set such that it shows the element from both lists in the pair\n",
    "\n",
    "**Expected Output:**\n",
    "````\n",
    "First List  [2, 3, 4, 5, 6, 7, 8]\n",
    "Second List  [4, 9, 16, 25, 36, 49, 64]\n",
    "Result is  {(6, 36), (8, 64), (4, 16), (5, 25), (3, 9), (7, 49), (2, 4)}\n",
    "````\n",
    "**Hint: use zip()"
   ]
  },
  {
   "cell_type": "code",
   "execution_count": 30,
   "metadata": {},
   "outputs": [
    {
     "name": "stdout",
     "output_type": "stream",
     "text": [
      "{(7, 49), (2, 4), (4, 16), (8, 64), (6, 36), (3, 9), (5, 25)}\n"
     ]
    }
   ],
   "source": [
    "first_list =  [2, 3, 4, 5, 6, 7, 8]\n",
    "second_list = [4, 9, 16, 25, 36, 49, 64]\n",
    "\n",
    "result = set(zip(first_list, second_list))\n",
    "print(result)"
   ]
  },
  {
   "cell_type": "markdown",
   "metadata": {},
   "source": [
    "**Exercise 18:** Given a range of first 10 numbers, Iterate from start number to the end number and print the sum of the current number and previous number\n",
    "\n",
    "Reference article for help:\n",
    "- [Python range() function](https://pynative.com/python-range-function/)\n",
    "- [Calculate sum and average in Python](https://pynative.com/python-program-to-calculate-sum-and-average-of-numbers/)\n",
    "\n",
    "**Expected Output:**\n",
    "````\n",
    "Printing current and previous number sum in a given range(10)\n",
    "Current Number 0 Previous Number  0  Sum:  0\n",
    "Current Number 1 Previous Number  0  Sum:  1\n",
    "Current Number 2 Previous Number  1  Sum:  3\n",
    "Current Number 3 Previous Number  2  Sum:  5\n",
    "Current Number 4 Previous Number  3  Sum:  7\n",
    "Current Number 5 Previous Number  4  Sum:  9\n",
    "Current Number 6 Previous Number  5  Sum:  11\n",
    "Current Number 7 Previous Number  6  Sum:  13\n",
    "Current Number 8 Previous Number  7  Sum:  15\n",
    "Current Number 9 Previous Number  8  Sum:  17\n",
    "````"
   ]
  },
  {
   "cell_type": "code",
   "execution_count": 31,
   "metadata": {},
   "outputs": [
    {
     "name": "stdout",
     "output_type": "stream",
     "text": [
      "Current Number 0 Previous Number 0 Sum: 0\n",
      "Current Number 1 Previous Number 0 Sum: 1\n",
      "Current Number 2 Previous Number 1 Sum: 3\n",
      "Current Number 3 Previous Number 2 Sum: 5\n",
      "Current Number 4 Previous Number 3 Sum: 7\n",
      "Current Number 5 Previous Number 4 Sum: 9\n",
      "Current Number 6 Previous Number 5 Sum: 11\n",
      "Current Number 7 Previous Number 6 Sum: 13\n",
      "Current Number 8 Previous Number 7 Sum: 15\n",
      "Current Number 9 Previous Number 8 Sum: 17\n"
     ]
    }
   ],
   "source": [
    "number = 10\n",
    "for n in range(number):\n",
    "    prev_n = n - 1 if n != 0 else 0\n",
    "    print(\"Current Number \"+str(n)+\" Previous Number \"+str(prev_n)+\" Sum: \"+str(n+prev_n))"
   ]
  },
  {
   "cell_type": "markdown",
   "metadata": {},
   "source": [
    "**Exercise 19**: Delete set of keys from Python Dictionary\n",
    "Given:\n",
    "````\n",
    "sampleDict = {\n",
    "  \"name\": \"Kelly\",\n",
    "  \"age\":25,\n",
    "  \"salary\": 8000,\n",
    "  \"city\": \"New york\"\n",
    "  \n",
    "}\n",
    "keysToRemove = [\"name\", \"salary\"]\n",
    "````\n",
    "**Expected output:**\n",
    "\n",
    "````\n",
    "{'city': 'New york', 'age': 25}\n",
    "````"
   ]
  },
  {
   "cell_type": "code",
   "execution_count": 32,
   "metadata": {},
   "outputs": [
    {
     "name": "stdout",
     "output_type": "stream",
     "text": [
      "{'age': 25, 'city': 'New york'}\n"
     ]
    }
   ],
   "source": [
    "sampleDict = {\n",
    "  \"name\": \"Kelly\",\n",
    "  \"age\":25,\n",
    "  \"salary\": 8000,\n",
    "  \"city\": \"New york\"\n",
    "  \n",
    "}\n",
    "keysToRemove = [\"name\", \"salary\"]\n",
    "for key in keysToRemove:\n",
    "    sampleDict.pop(key)\n",
    "print(sampleDict)"
   ]
  },
  {
   "cell_type": "markdown",
   "metadata": {
    "pycharm": {
     "name": "#%%\n"
    }
   },
   "source": [
    "**Exercise 20:** Given a string, display only those characters which are present at an even index number.\n",
    "For example str = \"pynative\" so you should display ‘p’, ‘n’, ‘t’, ‘v’.\n",
    "\n",
    "Reference article for help: Python Input and Output\n",
    "\n",
    "**Expected Output:**\n",
    "````\n",
    "Orginal String is  pynative\n",
    "Printing only even index chars\n",
    "p\n",
    "n\n",
    "t\n",
    "v\n",
    "````"
   ]
  },
  {
   "cell_type": "code",
   "execution_count": 33,
   "metadata": {
    "pycharm": {
     "name": "#%%\n"
    }
   },
   "outputs": [
    {
     "name": "stdout",
     "output_type": "stream",
     "text": [
      "p\n",
      "n\n",
      "t\n",
      "v\n"
     ]
    }
   ],
   "source": [
    "string = 'pynative'\n",
    "for s in string:\n",
    "    print(s) if string.index(s) % 2 == 0 else None\n",
    "\n",
    "# print(string[::2])"
   ]
  },
  {
   "cell_type": "markdown",
   "metadata": {},
   "source": [
    "**Exercise 21:** Given a list of numbers, return True if first and last number of a list is same\n",
    "\n",
    "**Expected Output:**\n",
    "````\n",
    "Given list is  [10, 20, 30, 40, 10]\n",
    "result is True\n",
    "Given list is  [10, 20, 30, 40, 50]\n",
    "result is False\n",
    "````"
   ]
  },
  {
   "cell_type": "code",
   "execution_count": 34,
   "metadata": {},
   "outputs": [
    {
     "name": "stdout",
     "output_type": "stream",
     "text": [
      "True\n",
      "False\n"
     ]
    }
   ],
   "source": [
    "l1 = [10, 20, 30, 40, 50, 60, 10]\n",
    "l2 = [10, 20, 30, 40, 50, 60]\n",
    "print(l1[0]==l1[-1])\n",
    "print(l2[0]==l2[-1])"
   ]
  },
  {
   "cell_type": "markdown",
   "metadata": {},
   "source": [
    "**Exercise 22:** Given a list of numbers, Iterate it and print only those numbers which are divisible of 5\n",
    "\n",
    "**Expected Output:**\n",
    "````\n",
    "Given list is  [10, 20, 33, 46, 55]\n",
    "Divisible of 5 in a list\n",
    "10\n",
    "20\n",
    "55\n",
    "````"
   ]
  },
  {
   "cell_type": "code",
   "execution_count": 35,
   "metadata": {},
   "outputs": [
    {
     "name": "stdout",
     "output_type": "stream",
     "text": [
      "10\n",
      "20\n",
      "55\n"
     ]
    }
   ],
   "source": [
    "given_list = [10, 20, 33, 46, 55]\n",
    "\n",
    "for i in given_list:\n",
    "    if i % 5 == 0:\n",
    "        print(i)"
   ]
  },
  {
   "cell_type": "markdown",
   "metadata": {},
   "source": [
    "**Exercise 23:** Return the total count of sub-string “Emma” appears in the given string\n",
    "\n",
    "Given string is “Emma is good developer. Emma is a writer”\n",
    "\n",
    "**Expected Output:**\n",
    "````\n",
    "Emma appeared 2 times\n",
    "````"
   ]
  },
  {
   "cell_type": "code",
   "execution_count": 36,
   "metadata": {},
   "outputs": [
    {
     "name": "stdout",
     "output_type": "stream",
     "text": [
      "2\n"
     ]
    }
   ],
   "source": [
    "string = \"Emma is good developer. Emma is a writer\"\n",
    "print(string.count(\"Emma\"))"
   ]
  },
  {
   "cell_type": "markdown",
   "metadata": {},
   "source": [
    "**Exercise 24:** Print the following pattern\n",
    "````\n",
    "1 \n",
    "2 2 \n",
    "3 3 3 \n",
    "4 4 4 4 \n",
    "5 5 5 5 5\n",
    "````"
   ]
  },
  {
   "cell_type": "code",
   "execution_count": 37,
   "metadata": {},
   "outputs": [
    {
     "name": "stdout",
     "output_type": "stream",
     "text": [
      "1\n",
      "22\n",
      "333\n",
      "4444\n",
      "55555\n"
     ]
    }
   ],
   "source": [
    "for i in range(1, 6):\n",
    "    print(i * str(i))"
   ]
  },
  {
   "cell_type": "markdown",
   "metadata": {},
   "source": [
    "**Exercise 25:** Print downward Half-Pyramid Pattern with Star (asterisk)\n",
    "\n",
    "````\n",
    "* * * * *  \n",
    "* * * *  \n",
    "* * *  \n",
    "* *  \n",
    "*\n",
    "````"
   ]
  },
  {
   "cell_type": "code",
   "execution_count": 38,
   "metadata": {},
   "outputs": [
    {
     "name": "stdout",
     "output_type": "stream",
     "text": [
      "* * * * * \n",
      "* * * * \n",
      "* * * \n",
      "* * \n",
      "* \n"
     ]
    }
   ],
   "source": [
    "i = 5\n",
    "while i > 0:\n",
    "    print(i * \"* \")\n",
    "    i -= 1"
   ]
  },
  {
   "cell_type": "markdown",
   "metadata": {},
   "source": [
    "**Exercise 26:** Write a function called exponent(base, exp) that returns an int value of base raises to the power of exp.\n",
    "Note here exp is a non-negative integer, and the base is an integer.\n",
    "\n",
    "**Expected Output:**\n",
    "\n",
    "Case 1:\n",
    "\n",
    "base = 2\n",
    "exponent = 5\n",
    "\n",
    "2 raises to the power of 5 is: 32 i.e. (2 *2 * 2 *2 *2 = 32)\n",
    "\n",
    "Case 2:\n",
    "\n",
    "base = 5\n",
    "exponent = 4\n",
    "\n",
    "5 raises to the power of 4 is: 625 i.e. (5 *5 * 5 *5 = 625)"
   ]
  },
  {
   "cell_type": "code",
   "execution_count": 39,
   "metadata": {
    "scrolled": true
   },
   "outputs": [
    {
     "name": "stdout",
     "output_type": "stream",
     "text": [
      "625\n"
     ]
    }
   ],
   "source": [
    "def exponent(base,exp):\n",
    "    return base**exp \n",
    "\n",
    "print(exponent(5,4))"
   ]
  },
  {
   "cell_type": "markdown",
   "metadata": {},
   "source": [
    "## Exercises for Extra Score!"
   ]
  },
  {
   "cell_type": "markdown",
   "metadata": {},
   "source": [
    "**!Exercise extra 1:** Print multiplication table form 1 to 10\n",
    "\n",
    "**Expected Output:**\n",
    "````\n",
    "1  2 3 4 5 6 7 8 9 10 \t\t\n",
    "2  4 6 8 10 12 14 16 18 20 \t\t\n",
    "3  6 9 12 15 18 21 24 27 30 \t\t\n",
    "4  8 12 16 20 24 28 32 36 40 \t\t\n",
    "5  10 15 20 25 30 35 40 45 50 \t\t\n",
    "6  12 18 24 30 36 42 48 54 60 \t\t\n",
    "7  14 21 28 35 42 49 56 63 70 \t\t\n",
    "8  16 24 32 40 48 56 64 72 80 \t\t\n",
    "9  18 27 36 45 54 63 72 81 90 \t\t\n",
    "10 20 30 40 50 60 70 80 90 100 \n",
    "````"
   ]
  },
  {
   "cell_type": "code",
   "execution_count": 40,
   "metadata": {},
   "outputs": [
    {
     "name": "stdout",
     "output_type": "stream",
     "text": [
      "1 2 3 4 5 6 7 8 9 10 \n",
      "\n",
      "2 4 6 8 10 12 14 16 18 20 \n",
      "\n",
      "3 6 9 12 15 18 21 24 27 30 \n",
      "\n",
      "4 8 12 16 20 24 28 32 36 40 \n",
      "\n",
      "5 10 15 20 25 30 35 40 45 50 \n",
      "\n",
      "6 12 18 24 30 36 42 48 54 60 \n",
      "\n",
      "7 14 21 28 35 42 49 56 63 70 \n",
      "\n",
      "8 16 24 32 40 48 56 64 72 80 \n",
      "\n",
      "9 18 27 36 45 54 63 72 81 90 \n",
      "\n",
      "10 20 30 40 50 60 70 80 90 100 \n",
      "\n"
     ]
    }
   ],
   "source": [
    "def multi_table(n):\n",
    "    for i in range(1, n+1):\n",
    "        for j in range(1, 11):\n",
    "            print(i*j, end=\" \")\n",
    "        print(\"\\n\")\n",
    "\n",
    "multi_table(10)"
   ]
  },
  {
   "cell_type": "markdown",
   "metadata": {},
   "source": [
    "**!Exercise extra 2:** Create an inner function to calculate the addition in the following way\n",
    "- Create an outer function that will accept two parameters a and b\n",
    "- Create an inner function inside an outer function that will calculate the addition of a and b\n",
    "- At last, an outer function will add 5 into addition and return it"
   ]
  },
  {
   "cell_type": "code",
   "execution_count": 41,
   "metadata": {},
   "outputs": [
    {
     "name": "stdout",
     "output_type": "stream",
     "text": [
      "10\n"
     ]
    }
   ],
   "source": [
    "def outer(a,b):\n",
    "    def inner(c,d):\n",
    "        return c+d\n",
    "    return inner(a,b) + 5\n",
    "print(outer(2,3))"
   ]
  },
  {
   "cell_type": "markdown",
   "metadata": {},
   "source": [
    "**!Exercise extra 3**: From given string replace each punctuation with #\n",
    "Given:\n",
    "````\n",
    "str1 = '/*Jon is @developer & musician!!'\n",
    "````\n",
    "**Expected Output:**\n",
    "````\n",
    "##Jon is #developer # musician##\n",
    "````"
   ]
  },
  {
   "cell_type": "code",
   "execution_count": 42,
   "metadata": {},
   "outputs": [
    {
     "name": "stdout",
     "output_type": "stream",
     "text": [
      "##Jon is #developer # musician##\n"
     ]
    }
   ],
   "source": [
    "str1 = '/*Jon is @developer & musician!!'\n",
    "punctuation_chars = ['@', '&', '!', '*', '/']\n",
    "for char in punctuation_chars:\n",
    "    str1 = str1.replace(char, '#')\n",
    "str2 = str1\n",
    "print(str2)"
   ]
  },
  {
   "cell_type": "markdown",
   "metadata": {},
   "source": [
    "**Exercise extra 4**: Given a Python dictionary, Change Brad’s salary to 8500\n",
    "````\n",
    "sampleDict = {\n",
    "     'emp1': {'name': 'Jhon', 'salary': 7500},\n",
    "     'emp2': {'name': 'Emma', 'salary': 8000},\n",
    "     'emp3': {'name': 'Brad', 'salary': 6500}\n",
    "}\n",
    "````\n",
    "**Expected output:**\n",
    "````\n",
    "sampleDict = {\n",
    "     'emp1': {'name': 'Jhon', 'salary': 7500},\n",
    "     'emp2': {'name': 'Emma', 'salary': 8000},\n",
    "     'emp3': {'name': 'Brad', 'salary': 8500}\n",
    "}\n",
    "````"
   ]
  },
  {
   "cell_type": "code",
   "execution_count": 43,
   "metadata": {},
   "outputs": [
    {
     "name": "stdout",
     "output_type": "stream",
     "text": [
      "{'emp1': {'name': 'Jhon', 'salary': 7500}, 'emp2': {'name': 'Emma', 'salary': 8000}, 'emp3': {'name': 'Brad', 'salary': 8500}}\n"
     ]
    }
   ],
   "source": [
    "sampleDict = {\n",
    "     'emp1': {'name': 'Jhon', 'salary': 7500},\n",
    "     'emp2': {'name': 'Emma', 'salary': 8000},\n",
    "     'emp3': {'name': 'Brad', 'salary': 6500}\n",
    "}\n",
    "\n",
    "sampleDict['emp3']['salary'] = 8500\n",
    "print(sampleDict)"
   ]
  },
  {
   "cell_type": "markdown",
   "metadata": {},
   "source": []
  },
  {
   "cell_type": "markdown",
   "metadata": {},
   "source": []
  }
 ],
 "metadata": {
  "kernelspec": {
   "display_name": "cadtml",
   "language": "python",
   "name": "python3"
  },
  "language_info": {
   "codemirror_mode": {
    "name": "ipython",
    "version": 3
   },
   "file_extension": ".py",
   "mimetype": "text/x-python",
   "name": "python",
   "nbconvert_exporter": "python",
   "pygments_lexer": "ipython3",
   "version": "3.10.14"
  }
 },
 "nbformat": 4,
 "nbformat_minor": 1
}
